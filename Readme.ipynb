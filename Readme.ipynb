{
 "cells": [
  {
   "cell_type": "markdown",
   "metadata": {},
   "source": []
  },
  {
   "cell_type": "markdown",
   "metadata": {},
   "source": [
    "\n",
    "Nuestro algoritmo completa el juego por filas.\n",
    "\n",
    "\n",
    "# Estructuras\n",
    "\n",
    "\n",
    "## Estructura de datos\n",
    "\n",
    "\n",
    "### Tablero (`board`)\n",
    "\n",
    "Será un array `int[4][4]` de `int` con valores del 0 al 4, donde el primer índice indica la fila, y el segundo la columna. Si el valor es 0, significa que la casilla está vacía. Si es 1, significa que hay una caja de altura 1. Si es 2, significa que hay una caja de altura 2. Si es 3, significa que hay una caja de altura 3. Si es 4, significa que hay una caja de altura 4.\n",
    "\n",
    "\n",
    "### Lista de posibles alturas por colocar en fila (`remaining_heights_col`)\n",
    "\n",
    "Será un array `int[5]` de 5 elementos, los 4 primeros indican si esa altura (+1) está disponible o no, y el último indica el número de fila.\n",
    "\n",
    "\n",
    "### Lista de posibles alturas por colocar en casilla (`remaining_heights`)\n",
    "\n",
    "\n",
    "Consistirá en un array `int[4][4][4]` de 0s y 1s, donde el primer índice indica la fila, el segundo la columna, y el tercero la altura. Si el valor es 1 en la lista del último índice, significa que esa altura está disponible para colocar en esa casilla. Si es 0, significa que no está disponible\n",
    "\n",
    "\n",
    "\n",
    "### Contadores (`col_counter` y `row_counter`)\n",
    "\n",
    "Vamos a tener dos variables para los contadores, que se llamarán `col_counter` y `row_counter`, serán de tipo `int[4][2]`, y el primer índice indicará el númerod e fila o columna, respectivamente, y el segundo índice indicará el contador, que puede ir de 1 (al menos cada sujeto del borde verá una caja) a 4. El primero es el de arriba (resp. izda.), y el segundo el de abajo (resp. dcha.).\n",
    "\n",
    "\n",
    "### Input (`col_input` y `row_input`)\n",
    "\n",
    "Vamos a tener dos variables para los inputs, que se llamarán `col_input` y `row_input`, serán de tipo `int[4][2]`, y el primer índice indicará el número de fila o columna, respectivamente, y el segundo índice indicará el contador, que puede ir de 1 (al menos cada sujeto del borde verá una caja) a 4. El primero es el de arriba (resp. izda.), y el segundo el de abajo (resp. dcha.).\n",
    "\n",
    "\n",
    "\n",
    "\n",
    "# Variables iniciales\n",
    "\n",
    "Tendremos varias variables al comienzo del juego, que inicializaremos de acuerdo a lo siguiente:\n",
    "\n",
    "- `board`: tablero del juego, de tipo `int[4][4]`, con valores posibles: 0, 1, 2, 3, 4. 0 indica que la casilla está vacía, y 1, 2, 3, 4 indican que hay una caja de altura 1, 2, 3, 4 respectivamente. Inicialmente, todas las casillas estarán vacías.\n",
    "- `remaining_heights`: lista de alturas restantes, de tipo `int[4][4][4]`, con posibles valores 0 y 1. 0 indica que esa altura no está disponible, y 1 indica que sí lo está. Inicialmente, todas las alturas estarán disponibles.\n",
    "- `remaining_heights_row`: lista de alturas restantes por colocar en fila, de tipo `int[5]`, con posibles valores 0 y 1, salvo para la última entrada, que puede tener valores 1, 2, 3 o 4. 0 indica que esa altura no está disponible, y 1 indica que sí lo está. Inicialmente, todas las alturas estarán disponibles.\n",
    "- `col_counter`: contador de alturas por columna, de tipo `int[4][2]`, con posibles valores 0, 1, 2, 3, 4. 0 indica que no hay ninguna caja en esa columna, 1, 2, 3, 4 indican que hay una caja de altura 1, 2, 3, 4 respectivamente. Inicialmente, todas las columnas estarán vacías.\n",
    "- `row_counter`: contador de alturas por fila, de tipo `int[4][2]`, con posibles valores 0, 1, 2, 3, 4. 0 indica que no hay ninguna caja en esa fila, 1, 2, 3, 4 indican que hay una caja de altura 1, 2, 3, 4 respectivamente. Inicialmente, todas las filas estarán vacías.\n",
    "- `col_input`: input de alturas por columna, de tipo `int[4][2]`, con posibles valores 0, 1, 2, 3, 4. 0 indica que no hay ninguna caja en esa columna, 1, 2, 3, 4 indican que hay una caja de altura 1, 2, 3, 4 respectivamente. Inicialmente, todas las columnas estarán vacías.\n",
    "- `row_input`: input de alturas por fila, de tipo `int[4][2]`, con posibles valores 0, 1, 2, 3, 4. 0 indica que no hay ninguna caja en esa fila, 1, 2, 3, 4 indican que hay una caja de altura 1, 2, 3, 4 respectivamente. Inicialmente, todas las filas estarán vacías.\n",
    "\n",
    "\n",
    "# Funciones\n",
    "\n",
    "## Funciones auxiliares\n",
    "\n",
    "- Traducción de la entrada, `ft_input`, a las variables `col_input` y `row_input`: Esta función traduce la entrada, que es de la forma `\"col1up col2up col3up col4up col1down col2down col3down col4down row1left row2left row3left row4left row1right row2right row3right row4right\"`, a las variables `col_input` y `row_input`, que son de la forma `int[4][2]`, con cada valor variando entre 1 y 4 (si no, lanzamos un mensaje de \"Error\" y paramos todo). Tendrá como argumento la entrada, y devolverá las variables `col_input` y `row_input`, posiblemente en un array de dos elementos, a saber, `col_input` y `row_input`.\n",
    "\n",
    "- Pintar el tablero, ft_print_board: Esta función pinta el tablero, de la forma `int[4][4]`, con cada valor variando entre 0 y 4, en la consola. Tendrá como argumento el tablero, y no devolverá nada. Debe pintarlo como un cuadrado de tamaño 4x4 de manera que después de cada número haya un espacio, salvo para el último, para el cual solo habrá un salto de línea.\n",
    "\n",
    "- Eliminar alturas de la lista de alturas posibles por casilla: Esta función elimina una altura de la lista de alturas posibles para una casilla dada. Los parámetros son la fila, la columna y la altura a eliminar, y no devuelve nada. Simplemente pone un 0 en la posición correspondiente de la lista de alturas posibles.\n",
    "\n",
    "- Eliminar alturas de la lista de alturas posibles por fila: Esta función elimina una altura de la lista de alturas posibles para una fila dada. Los parámetros son la fila y la altura a eliminar, y no devuelve nada. Simplemente pone un 0 en la posición correspondiente de la lista de alturas posibles.\n",
    "\n",
    "- Añaadir alturas a la lista de alturas posibles por casilla: Esta función añade una altura a la lista de alturas posibles para una casilla dada. Los parámetros son la fila, la columna y la altura a añadir, y no devuelve nada. Simplemente pone un 1 en la posición correspondiente de la lista de alturas posibles.\n",
    "\n",
    "- Añadir alturas a la lista de alturas posibles por fila: Esta función añade una altura a la lista de alturas posibles para una fila dada. Los parámetros son la fila y la altura a añadir, y no devuelve nada. Simplemente pone un 1 en la posición correspondiente de la lista de alturas posibles.\n",
    "\n",
    "- Actualizar contador de alturas por columna: Esta función suma una unidad al contador de alturas por columna. Los parámetros son la columna y la altura a añadir, y no devuelve nada. Simplemente suma 1 a la posición correspondiente del contador de alturas por columna si el individuo que corresponde ve una nueva caja. Si ve menos cajas, resta 1. Si ve el mismo número de cajas, no hace nada.\n",
    "\n",
    "- Actualizar contador de alturas por fila: Esta función suma una unidad al contador de alturas por fila. Los parámetros son la fila y la altura a añadir, y no devuelve nada. Simplemente suma 1 a la posición correspondiente del contador de alturas por fila si el individuo que corresponde ve una nueva caja. Si ve menos cajas, resta 1. Si ve el mismo número de cajas, no hace nada.\n",
    "\n",
    "- Función de visualización: Está función indica \n",
    "\n"
   ]
  },
  {
   "cell_type": "markdown",
   "metadata": {},
   "source": []
  },
  {
   "cell_type": "markdown",
   "metadata": {},
   "source": [
    "\n",
    "\n"
   ]
  }
 ],
 "metadata": {
  "language_info": {
   "name": "python"
  }
 },
 "nbformat": 4,
 "nbformat_minor": 2
}
